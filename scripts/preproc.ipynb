{
 "cells": [
  {
   "cell_type": "code",
   "execution_count": null,
   "metadata": {},
   "outputs": [],
   "source": [
    "import pandas as pd\n",
    "import numpy as np\n",
    "from tqdm import tqdm_notebook as tqdm\n",
    "from os import path, makedirs"
   ]
  },
  {
   "cell_type": "code",
   "execution_count": null,
   "metadata": {},
   "outputs": [],
   "source": [
    "#\n",
    "## compability to SMA implementations\n",
    "def _store_csr(split_df, fo_name, buf_size=10**5):\n",
    "    with open(fo_name, 'w') as fo:\n",
    "        buf_text = []\n",
    "        buf_data = split_df.groupby(['cuid'])\n",
    "        for uid in tqdm(buf_data.groups):\n",
    "            bunch_data = buf_data.get_group(uid)\n",
    "\n",
    "            uIDs = bunch_data['cuid'].values\n",
    "            iIDs = bunch_data['ciid'].values\n",
    "            uiRns = bunch_data['rating'].values\n",
    "\n",
    "            buf_uf = []\n",
    "            buf_if = []\n",
    "            for _ in range(bunch_data.shape[0]):\n",
    "                buf_uf.append('%d:%d' % (uIDs[_], 0))\n",
    "                buf_if.append('%d:%.1f' % (iIDs[_], uiRns[_]))\n",
    "            one_line = ['0 0 %d %d' % (uIDs.size, iIDs.size)] + buf_uf + buf_if\n",
    "            buf_text.append(' '.join(one_line))\n",
    "\n",
    "            if len(buf_text) % buf_size == 0:\n",
    "                buf_text.append('')\n",
    "                fo.write('\\n'.join(buf_text))\n",
    "                buf_text = []\n",
    "\n",
    "        # check whether buffer is empty\n",
    "        if buf_text:\n",
    "            buf_text.append('')\n",
    "            fo.write('\\n'.join(buf_text))\n",
    "        fo.close()\n",
    "\n",
    "        \n",
    "def sma_format(fi_dir, fo_pattern, **kwargs):\n",
    "    print('make CSR for training')\n",
    "    tr_df = pd.read_csv('%strainingset' % fi_dir, header=None, \n",
    "                        names=['cuid', 'ciid', 'rating'], sep=':+', engine='python')\n",
    "    _store_csr(tr_df, fo_pattern % 'train.data')\n",
    "\n",
    "    print('make CSR for testing')\n",
    "    ev_df = pd.read_csv('%stestingset' % fi_dir, header=None, \n",
    "                        names=['cuid', 'ciid', 'rating'], sep=':+', engine='python')\n",
    "    _store_csr(ev_df, fo_pattern % 'test.data')\n",
    "\n",
    "    print('draw configs for entire data')\n",
    "    buf_config = []\n",
    "    max_uID = tr_df['cuid'].max() + 1\n",
    "    max_iID = tr_df['ciid'].max() + 1\n",
    "    buf_config.append(\n",
    "        '$USER_COUNT_VALUE=%d\\n$ITEM_COUNT_VALUE=%d' % (max_uID, max_iID))\n",
    "    max_uiRn = tr_df['rating'].max()\n",
    "    min_uiRn = tr_df['rating'].min()\n",
    "    buf_config.append('$MAX_RATING_VALUE=%.1f\\n$MIN_RATING_VALUE=%.1f' %\n",
    "                      (max_uiRn, min_uiRn))\n",
    "    num_row_tr = tr_df['cuid'].unique().size\n",
    "    num_entr_tr = 2 * tr_df.shape[0]\n",
    "    buf_config.append('$TRAIN_ROW_NUM_VALUE=%d\\n$TRAIN_VAL_NUM_VALUE=%d' %\n",
    "                      (num_row_tr, num_entr_tr))\n",
    "    num_row_ev = ev_df['cuid'].unique().size\n",
    "    num_entr_ev = 2 * ev_df.shape[0]\n",
    "    buf_config.append('$TEST_ROW_NUM_VALUE=%d\\n$TEST_VAL_NUM_VALUE=%d' %\n",
    "                      (num_row_ev, num_entr_ev))\n",
    "    with open('%sdConfig.properties' % fi_dir, 'w') as fo:\n",
    "        fo.write('\\n'.join(buf_config))\n",
    "        fo.close()\n",
    "    print('done')"
   ]
  },
  {
   "cell_type": "code",
   "execution_count": null,
   "metadata": {
    "scrolled": true
   },
   "outputs": [],
   "source": [
    "fio_dir = '/home/crl_it/data/amazon/2/'\n",
    "sma_format(fio_dir, fio_dir+'%s')"
   ]
  },
  {
   "cell_type": "code",
   "execution_count": null,
   "metadata": {},
   "outputs": [],
   "source": []
  }
 ],
 "metadata": {
  "kernelspec": {
   "display_name": "Python 3",
   "language": "python",
   "name": "python3"
  },
  "language_info": {
   "codemirror_mode": {
    "name": "ipython",
    "version": 3
   },
   "file_extension": ".py",
   "mimetype": "text/x-python",
   "name": "python",
   "nbconvert_exporter": "python",
   "pygments_lexer": "ipython3",
   "version": "3.6.0"
  }
 },
 "nbformat": 4,
 "nbformat_minor": 2
}
